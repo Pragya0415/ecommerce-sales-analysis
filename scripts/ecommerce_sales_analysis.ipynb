{
 "cells": [
  {
   "cell_type": "markdown",
   "id": "439bc7bc-4203-4a57-91ec-060ed52bd615",
   "metadata": {},
   "source": [
    "# E-commerce Sales Analysis\n"
   ]
  },
  {
   "cell_type": "markdown",
   "id": "163ff87a-790d-4664-ae32-6c4ae71d5fdd",
   "metadata": {},
   "source": [
    "## Project Overview\r\n",
    "This project analyzes sales data from an e-commerce platform to uncover insights into product performance, category trends, and pricing strategies. The goal is to provide actionable recommendations to optimize revenue and inventory management. The dataset, containing 100 sales transactions, includes product details, quantities, prices, and total sales."
   ]
  },
  {
   "cell_type": "code",
   "execution_count": 1,
   "id": "9c06aa2b-b0e1-4aa2-aaec-3d084ff3eaf3",
   "metadata": {},
   "outputs": [],
   "source": [
    "# Importing required libraries\n",
    "import pandas as pd\n",
    "import numpy as np\n",
    "import matplotlib.pyplot as plt\n",
    "import seaborn as sns"
   ]
  },
  {
   "cell_type": "markdown",
   "id": "b8d8b959-3cf1-4633-ac7e-16ecc0b9e99f",
   "metadata": {},
   "source": [
    "### Dataset Overview\n",
    "This dataset contains 100 records of sales transactions from an e-commerce platform. The columns include:\n",
    "\n",
    "- Order_ID: Unique identifier for each order.\n",
    "- Product: Name of the product sold.\n",
    "- Category: Category of the product.\n",
    "- Quantity: Quantity of the product sold.\n",
    "- Price_per_Unit: Price of one unit of the product.\n",
    "- Total_Sale: Total sale amount for the product.\r\n"
   ]
  },
  {
   "cell_type": "code",
   "execution_count": 2,
   "id": "ccf18e57-75c6-42c3-9fb4-46884974863f",
   "metadata": {},
   "outputs": [],
   "source": [
    "# Loading dataset\n",
    "df = pd.read_csv('../data/ecommerce_sales.csv')"
   ]
  },
  {
   "cell_type": "code",
   "execution_count": 3,
   "id": "63be7550-37d6-41c4-8c36-308e0b714e91",
   "metadata": {},
   "outputs": [
    {
     "data": {
      "text/html": [
       "<div>\n",
       "<style scoped>\n",
       "    .dataframe tbody tr th:only-of-type {\n",
       "        vertical-align: middle;\n",
       "    }\n",
       "\n",
       "    .dataframe tbody tr th {\n",
       "        vertical-align: top;\n",
       "    }\n",
       "\n",
       "    .dataframe thead th {\n",
       "        text-align: right;\n",
       "    }\n",
       "</style>\n",
       "<table border=\"1\" class=\"dataframe\">\n",
       "  <thead>\n",
       "    <tr style=\"text-align: right;\">\n",
       "      <th></th>\n",
       "      <th>Order_ID</th>\n",
       "      <th>Product</th>\n",
       "      <th>Category</th>\n",
       "      <th>Quantity</th>\n",
       "      <th>Price_per_Unit</th>\n",
       "      <th>Total_Sale</th>\n",
       "    </tr>\n",
       "  </thead>\n",
       "  <tbody>\n",
       "    <tr>\n",
       "      <th>0</th>\n",
       "      <td>1</td>\n",
       "      <td>Laptop</td>\n",
       "      <td>Electronics</td>\n",
       "      <td>2</td>\n",
       "      <td>1446</td>\n",
       "      <td>2892</td>\n",
       "    </tr>\n",
       "    <tr>\n",
       "      <th>1</th>\n",
       "      <td>2</td>\n",
       "      <td>Laptop</td>\n",
       "      <td>Accessories</td>\n",
       "      <td>4</td>\n",
       "      <td>693</td>\n",
       "      <td>2772</td>\n",
       "    </tr>\n",
       "    <tr>\n",
       "      <th>2</th>\n",
       "      <td>3</td>\n",
       "      <td>Headphones</td>\n",
       "      <td>Electronics</td>\n",
       "      <td>7</td>\n",
       "      <td>1626</td>\n",
       "      <td>11382</td>\n",
       "    </tr>\n",
       "    <tr>\n",
       "      <th>3</th>\n",
       "      <td>4</td>\n",
       "      <td>Smartphone</td>\n",
       "      <td>Accessories</td>\n",
       "      <td>6</td>\n",
       "      <td>63</td>\n",
       "      <td>378</td>\n",
       "    </tr>\n",
       "    <tr>\n",
       "      <th>4</th>\n",
       "      <td>5</td>\n",
       "      <td>Smartphone</td>\n",
       "      <td>Accessories</td>\n",
       "      <td>9</td>\n",
       "      <td>1097</td>\n",
       "      <td>9873</td>\n",
       "    </tr>\n",
       "  </tbody>\n",
       "</table>\n",
       "</div>"
      ],
      "text/plain": [
       "   Order_ID     Product     Category  Quantity  Price_per_Unit  Total_Sale\n",
       "0         1      Laptop  Electronics         2            1446        2892\n",
       "1         2      Laptop  Accessories         4             693        2772\n",
       "2         3  Headphones  Electronics         7            1626       11382\n",
       "3         4  Smartphone  Accessories         6              63         378\n",
       "4         5  Smartphone  Accessories         9            1097        9873"
      ]
     },
     "execution_count": 3,
     "metadata": {},
     "output_type": "execute_result"
    }
   ],
   "source": [
    "# Initial preview of data\n",
    "df.head()"
   ]
  },
  {
   "cell_type": "markdown",
   "id": "e20bbc38-6ae3-40a5-bc12-65fed2d7bd13",
   "metadata": {},
   "source": [
    "## Data Cleaning "
   ]
  },
  {
   "cell_type": "markdown",
   "id": "a0578e46-a6b4-42c1-98b9-ecb795fb9a81",
   "metadata": {},
   "source": [
    "#### This section focuses on cleaning the data by removing duplicates, handling missing values, and correcting incorrect formats. The aim is to ensure the dataset is accurate and ready for analysis..\""
   ]
  },
  {
   "cell_type": "code",
   "execution_count": 4,
   "id": "3bd3463d-2dda-4abc-a45a-00e7f2649a7b",
   "metadata": {},
   "outputs": [
    {
     "name": "stdout",
     "output_type": "stream",
     "text": [
      "<class 'pandas.core.frame.DataFrame'>\n",
      "RangeIndex: 100 entries, 0 to 99\n",
      "Data columns (total 6 columns):\n",
      " #   Column          Non-Null Count  Dtype \n",
      "---  ------          --------------  ----- \n",
      " 0   Order_ID        100 non-null    int64 \n",
      " 1   Product         100 non-null    object\n",
      " 2   Category        100 non-null    object\n",
      " 3   Quantity        100 non-null    int64 \n",
      " 4   Price_per_Unit  100 non-null    int64 \n",
      " 5   Total_Sale      100 non-null    int64 \n",
      "dtypes: int64(4), object(2)\n",
      "memory usage: 4.8+ KB\n"
     ]
    }
   ],
   "source": [
    "# Knowing the data\n",
    "df.info()\n"
   ]
  },
  {
   "cell_type": "code",
   "execution_count": 5,
   "id": "63368fb6-1b28-4c11-985d-a7c5e063e6ac",
   "metadata": {},
   "outputs": [
    {
     "data": {
      "text/html": [
       "<div>\n",
       "<style scoped>\n",
       "    .dataframe tbody tr th:only-of-type {\n",
       "        vertical-align: middle;\n",
       "    }\n",
       "\n",
       "    .dataframe tbody tr th {\n",
       "        vertical-align: top;\n",
       "    }\n",
       "\n",
       "    .dataframe thead th {\n",
       "        text-align: right;\n",
       "    }\n",
       "</style>\n",
       "<table border=\"1\" class=\"dataframe\">\n",
       "  <thead>\n",
       "    <tr style=\"text-align: right;\">\n",
       "      <th></th>\n",
       "      <th>Order_ID</th>\n",
       "      <th>Quantity</th>\n",
       "      <th>Price_per_Unit</th>\n",
       "      <th>Total_Sale</th>\n",
       "    </tr>\n",
       "  </thead>\n",
       "  <tbody>\n",
       "    <tr>\n",
       "      <th>count</th>\n",
       "      <td>100.000000</td>\n",
       "      <td>100.000000</td>\n",
       "      <td>100.000000</td>\n",
       "      <td>100.000000</td>\n",
       "    </tr>\n",
       "    <tr>\n",
       "      <th>mean</th>\n",
       "      <td>50.500000</td>\n",
       "      <td>4.770000</td>\n",
       "      <td>1045.050000</td>\n",
       "      <td>5123.830000</td>\n",
       "    </tr>\n",
       "    <tr>\n",
       "      <th>std</th>\n",
       "      <td>29.011492</td>\n",
       "      <td>2.824335</td>\n",
       "      <td>599.486487</td>\n",
       "      <td>4621.943356</td>\n",
       "    </tr>\n",
       "    <tr>\n",
       "      <th>min</th>\n",
       "      <td>1.000000</td>\n",
       "      <td>1.000000</td>\n",
       "      <td>56.000000</td>\n",
       "      <td>63.000000</td>\n",
       "    </tr>\n",
       "    <tr>\n",
       "      <th>25%</th>\n",
       "      <td>25.750000</td>\n",
       "      <td>2.000000</td>\n",
       "      <td>531.250000</td>\n",
       "      <td>1494.750000</td>\n",
       "    </tr>\n",
       "    <tr>\n",
       "      <th>50%</th>\n",
       "      <td>50.500000</td>\n",
       "      <td>5.000000</td>\n",
       "      <td>1096.500000</td>\n",
       "      <td>3273.000000</td>\n",
       "    </tr>\n",
       "    <tr>\n",
       "      <th>75%</th>\n",
       "      <td>75.250000</td>\n",
       "      <td>7.000000</td>\n",
       "      <td>1554.000000</td>\n",
       "      <td>7789.500000</td>\n",
       "    </tr>\n",
       "    <tr>\n",
       "      <th>max</th>\n",
       "      <td>100.000000</td>\n",
       "      <td>9.000000</td>\n",
       "      <td>1980.000000</td>\n",
       "      <td>17307.000000</td>\n",
       "    </tr>\n",
       "  </tbody>\n",
       "</table>\n",
       "</div>"
      ],
      "text/plain": [
       "         Order_ID    Quantity  Price_per_Unit    Total_Sale\n",
       "count  100.000000  100.000000      100.000000    100.000000\n",
       "mean    50.500000    4.770000     1045.050000   5123.830000\n",
       "std     29.011492    2.824335      599.486487   4621.943356\n",
       "min      1.000000    1.000000       56.000000     63.000000\n",
       "25%     25.750000    2.000000      531.250000   1494.750000\n",
       "50%     50.500000    5.000000     1096.500000   3273.000000\n",
       "75%     75.250000    7.000000     1554.000000   7789.500000\n",
       "max    100.000000    9.000000     1980.000000  17307.000000"
      ]
     },
     "execution_count": 5,
     "metadata": {},
     "output_type": "execute_result"
    }
   ],
   "source": [
    "# Summary statistics of the DataFrame\n",
    "df.describe()"
   ]
  },
  {
   "cell_type": "code",
   "execution_count": 6,
   "id": "72065f0e-c9da-4530-bd34-8d830da56e6b",
   "metadata": {},
   "outputs": [
    {
     "data": {
      "text/plain": [
       "Order_ID          0\n",
       "Product           0\n",
       "Category          0\n",
       "Quantity          0\n",
       "Price_per_Unit    0\n",
       "Total_Sale        0\n",
       "dtype: int64"
      ]
     },
     "execution_count": 6,
     "metadata": {},
     "output_type": "execute_result"
    }
   ],
   "source": [
    "# Checking for missing values\n",
    "df.isnull().sum()"
   ]
  },
  {
   "cell_type": "code",
   "execution_count": 7,
   "id": "68885b49-0e7a-4b0b-b69e-87fd3a097e0e",
   "metadata": {},
   "outputs": [],
   "source": [
    "# Checking for and dropping duplicates\n",
    "df.duplicated().sum()\n",
    "df = df.drop_duplicates()"
   ]
  },
  {
   "cell_type": "code",
   "execution_count": 8,
   "id": "5817e651-91fd-47ac-89ed-eaee9234f993",
   "metadata": {},
   "outputs": [],
   "source": [
    "# Checking for negative quantities and removing them\n",
    "df = df[df['Quantity'] > 0]"
   ]
  },
  {
   "cell_type": "code",
   "execution_count": 9,
   "id": "45f8e925-74f5-47e7-98d9-d06ec5b97b67",
   "metadata": {},
   "outputs": [],
   "source": [
    "# Ensuring numeric columns are correctly typed\n",
    "df['Quantity'] = pd.to_numeric(df['Quantity'], errors='coerce')\n",
    "df['Price_per_Unit'] = pd.to_numeric(df['Price_per_Unit'], errors='coerce')\n",
    "df['Total_Sale'] = pd.to_numeric(df['Total_Sale'], errors='coerce')"
   ]
  },
  {
   "cell_type": "code",
   "execution_count": 10,
   "id": "a889590a-a020-4764-8908-636352f5afbd",
   "metadata": {},
   "outputs": [],
   "source": [
    "# Dropping rows that failed to convert\n",
    "df = df.dropna(subset=['Quantity', 'Price_per_Unit', 'Total_Sale'])"
   ]
  },
  {
   "cell_type": "code",
   "execution_count": 11,
   "id": "ac018254-127c-4644-a632-947c72ee6fde",
   "metadata": {},
   "outputs": [
    {
     "name": "stdout",
     "output_type": "stream",
     "text": [
      "All Total_Sale values are correct.\n",
      "Number of duplicates removed: 0\n",
      "Number of rows with negative quantities removed: 0\n"
     ]
    }
   ],
   "source": [
    "# Verifying Total_Sale calculation\n",
    "df['Calculated_Total'] = df['Quantity'] * df['Price_per_Unit']\n",
    "discrepancies = df[df['Total_Sale'] != df['Calculated_Total']]\n",
    "if discrepancies.empty:\n",
    "    print(\"All Total_Sale values are correct.\")\n",
    "else:\n",
    "    print(\"Found discrepancies in Total_Sale:\")\n",
    "    print(discrepancies[['Order_ID', 'Quantity', 'Price_per_Unit', 'Total_Sale', 'Calculated_Total']])\n",
    "df = df.drop(columns=['Calculated_Total'])\n",
    "\n",
    "print(f\"Number of duplicates removed: {100 - len(df)}\")\n",
    "print(f\"Number of rows with negative quantities removed: {100 - len(df[df['Quantity'] > 0])}\")"
   ]
  },
  {
   "cell_type": "code",
   "execution_count": 12,
   "id": "b5be0dec-08f3-47be-99fc-e9ddb4cbace1",
   "metadata": {},
   "outputs": [
    {
     "name": "stdout",
     "output_type": "stream",
     "text": [
      "<class 'pandas.core.frame.DataFrame'>\n",
      "RangeIndex: 100 entries, 0 to 99\n",
      "Data columns (total 6 columns):\n",
      " #   Column          Non-Null Count  Dtype \n",
      "---  ------          --------------  ----- \n",
      " 0   Order_ID        100 non-null    int64 \n",
      " 1   Product         100 non-null    object\n",
      " 2   Category        100 non-null    object\n",
      " 3   Quantity        100 non-null    int64 \n",
      " 4   Price_per_Unit  100 non-null    int64 \n",
      " 5   Total_Sale      100 non-null    int64 \n",
      "dtypes: int64(4), object(2)\n",
      "memory usage: 4.8+ KB\n"
     ]
    }
   ],
   "source": [
    "# Final check\n",
    "df.info()"
   ]
  },
  {
   "cell_type": "markdown",
   "id": "76134aff-d7aa-4e7f-9054-9a18a37e3b83",
   "metadata": {},
   "source": [
    "## Exploratory Data Analysis"
   ]
  },
  {
   "cell_type": "markdown",
   "id": "fb0ceb1d-3845-48a6-aa98-865ac9556a0b",
   "metadata": {},
   "source": [
    "#### This section explores key performance metrics from the e-commerce dataset, focusing on sales volume, revenue, and pricing across products and categories. The goal is to identify top performers, popular products, and pricing trends.\r\n"
   ]
  },
  {
   "cell_type": "code",
   "execution_count": 13,
   "id": "c4ce8005-7e30-4a06-93e9-0e1b2ffe4e0e",
   "metadata": {},
   "outputs": [
    {
     "data": {
      "text/plain": [
       "Product\n",
       "Laptop        162098\n",
       "Headphones    155194\n",
       "Tablet        113347\n",
       "Smartphone     81744\n",
       "Name: Total_Sale, dtype: int64"
      ]
     },
     "execution_count": 13,
     "metadata": {},
     "output_type": "execute_result"
    }
   ],
   "source": [
    "#Identifying which products have generated the most revenue overall.\n",
    "product_revenue = df.groupby('Product')['Total_Sale'].sum().sort_values(ascending=False)\n",
    "product_revenue.head(10)"
   ]
  },
  {
   "cell_type": "code",
   "execution_count": 14,
   "id": "32ffe72c-9488-49f8-83f7-9c2f31616ee2",
   "metadata": {},
   "outputs": [
    {
     "data": {
      "text/plain": [
       "Category\n",
       "Electronics    258523\n",
       "Accessories    253860\n",
       "Name: Total_Sale, dtype: int64"
      ]
     },
     "execution_count": 14,
     "metadata": {},
     "output_type": "execute_result"
    }
   ],
   "source": [
    "# Identifying which product categories contribute most to the business's total revenue.\n",
    "category_revenue = df.groupby('Category')['Total_Sale'].sum().sort_values(ascending=False)\n",
    "category_revenue"
   ]
  },
  {
   "cell_type": "code",
   "execution_count": 15,
   "id": "2d195a2e-96bf-4f35-ac41-397e8878fddc",
   "metadata": {},
   "outputs": [
    {
     "data": {
      "text/plain": [
       "Product\n",
       "Laptop        150\n",
       "Headphones    129\n",
       "Tablet        103\n",
       "Smartphone     95\n",
       "Name: Quantity, dtype: int64"
      ]
     },
     "execution_count": 15,
     "metadata": {},
     "output_type": "execute_result"
    }
   ],
   "source": [
    "# Identifying which products are purchased most frequently, regardless of their price?\n",
    "top_quantity = df.groupby('Product')['Quantity'].sum().sort_values(ascending=False)\n",
    "top_quantity.head(10)"
   ]
  },
  {
   "cell_type": "code",
   "execution_count": 16,
   "id": "98d7a85c-0fb2-456e-9599-dc100e631ddf",
   "metadata": {},
   "outputs": [
    {
     "data": {
      "text/plain": [
       "Category\n",
       "Electronics    1070.86\n",
       "Accessories    1019.24\n",
       "Name: Price_per_Unit, dtype: float64"
      ]
     },
     "execution_count": 16,
     "metadata": {},
     "output_type": "execute_result"
    }
   ],
   "source": [
    "# Understanding the pricing levels across different categories.\n",
    "avg_price = df.groupby('Category')['Price_per_Unit'].mean().sort_values(ascending=False)\n",
    "avg_price"
   ]
  },
  {
   "cell_type": "code",
   "execution_count": 17,
   "id": "c381567d-9bc1-4721-a281-d488b0aa7f19",
   "metadata": {},
   "outputs": [
    {
     "data": {
      "text/plain": [
       "count      100.000000\n",
       "mean      5123.830000\n",
       "std       4621.943356\n",
       "min         63.000000\n",
       "25%       1494.750000\n",
       "50%       3273.000000\n",
       "75%       7789.500000\n",
       "max      17307.000000\n",
       "Name: Total_Sale, dtype: float64"
      ]
     },
     "execution_count": 17,
     "metadata": {},
     "output_type": "execute_result"
    }
   ],
   "source": [
    "# Finding revenue per order\n",
    "order_revenue = df.groupby('Order_ID')['Total_Sale'].sum().sort_values(ascending=False)\n",
    "order_revenue.describe()"
   ]
  },
  {
   "cell_type": "markdown",
   "id": "995905a9-5fd1-41f3-bbde-4088037fd1c2",
   "metadata": {},
   "source": [
    "## Visualizations"
   ]
  },
  {
   "cell_type": "markdown",
   "id": "a7bdb49f-9d15-4e45-9bd3-d7ecd248585f",
   "metadata": {},
   "source": [
    "#### This section presents key visualizations from the e-commerce dataset, highlighting sales trends, product performance, and category-wise revenue distribution. The goal is to provide clear insights into product popularity, sales patterns, and pricing strategies."
   ]
  },
  {
   "cell_type": "code",
   "execution_count": 18,
   "id": "2bc23c84-f0d0-43f8-b1c4-755a37efe528",
   "metadata": {},
   "outputs": [
    {
     "data": {
      "image/png": "[encoded data removed]",
      "text/plain": [
       "<Figure size 800x400 with 1 Axes>"
      ]
     },
     "metadata": {},
     "output_type": "display_data"
    }
   ],
   "source": [
    "# Visualizing the products by revenue to identify the highest-performing products\n",
    "plt.figure(figsize=(8, 4)) \n",
    "sns.barplot(x=product_revenue.values, y=product_revenue.index, hue=product_revenue.index, palette='viridis', legend=False)\n",
    "plt.title('Total Revenue by Product', fontsize=12, weight='bold')\n",
    "plt.xlabel('Total Revenue ($)', fontsize=10)\n",
    "plt.ylabel('Product', fontsize=10)\n",
    "plt.grid(axis='x', linestyle='--', alpha=0.7)\n",
    "plt.tight_layout()\n",
    "plt.savefig('../visuals/top_products_by_revenue.png')\n",
    "plt.show()"
   ]
  },
  {
   "cell_type": "markdown",
   "id": "bb675d52-d7c3-4ff8-8e48-8e0a601c96ef",
   "metadata": {},
   "source": [
    "###### This bar chart shows which products generate the most revenue. Laptops lead, followed by Headphones, Tablets, and Smartphones. This suggests Laptops are a key driver of sales."
   ]
  },
  {
   "cell_type": "code",
   "execution_count": 19,
   "id": "413558c4-977a-4243-897e-805ed0a908f1",
   "metadata": {},
   "outputs": [
    {
     "data": {
      "image/png": "[encoded data removed]",
      "text/plain": [
       "<Figure size 600x400 with 1 Axes>"
      ]
     },
     "metadata": {},
     "output_type": "display_data"
    }
   ],
   "source": [
    "# Visualizing revenue distribution across different categories to understand category-wise performance\n",
    "plt.figure(figsize=(6, 4))\n",
    "sns.barplot(x=category_revenue.values, y=category_revenue.index, hue=category_revenue.index, palette='magma', legend=False)\n",
    "plt.title('Total Revenue by Category', fontsize=12, weight='bold')\n",
    "plt.xlabel('Total Revenue ($)', fontsize=10)\n",
    "plt.ylabel('Category', fontsize=10)\n",
    "plt.grid(axis='x', linestyle='--', alpha=0.7)\n",
    "plt.tight_layout()\n",
    "plt.savefig('../visuals/revenue_distribution_by_category.png')\n",
    "plt.show()"
   ]
  },
  {
   "cell_type": "markdown",
   "id": "8e844af2-3016-4c02-bd2d-2823e66f2e7e",
   "metadata": {},
   "source": [
    "###### This bar chart shows revenue by category. Electronics slightly outperforms Accessories, but both are important for the business."
   ]
  },
  {
   "cell_type": "code",
   "execution_count": 20,
   "id": "2c9c0efb-833c-4356-b30f-96389b3b78a1",
   "metadata": {},
   "outputs": [
    {
     "data": {
      "image/png": "[encoded data removed]",
      "text/plain": [
       "<Figure size 800x400 with 1 Axes>"
      ]
     },
     "metadata": {},
     "output_type": "display_data"
    }
   ],
   "source": [
    "# Visualizing the top products by quantity sold to identify the most popular products\n",
    "plt.figure(figsize=(8, 4))\n",
    "sns.barplot(x=top_quantity.values, y=top_quantity.index, hue=top_quantity.index, palette='crest', legend=False)\n",
    "plt.title('Total Quantity Sold by Product', fontsize=12, weight='bold')\n",
    "plt.xlabel('Total Quantity Sold', fontsize=10)\n",
    "plt.ylabel('Product', fontsize=10)\n",
    "plt.grid(axis='x', linestyle='--', alpha=0.7)\n",
    "plt.tight_layout()\n",
    "plt.savefig('../visuals/top_products_by_quantity_sold.png')\n",
    "plt.show()"
   ]
  },
  {
   "cell_type": "markdown",
   "id": "e3150d89-3a31-4beb-8e40-4da48a215feb",
   "metadata": {},
   "source": [
    "###### This bar chart shows how many units of each product were sold. Laptops are the most popular, followed by Headphones, Tablets, and Smartphones. This means customers buy Laptops the most."
   ]
  },
  {
   "cell_type": "code",
   "execution_count": 21,
   "id": "59ccf055-605c-4083-90d6-449b5fa17374",
   "metadata": {},
   "outputs": [
    {
     "data": {
      "image/png": "[encoded data removed]",
      "text/plain": [
       "<Figure size 600x400 with 1 Axes>"
      ]
     },
     "metadata": {},
     "output_type": "display_data"
    }
   ],
   "source": [
    "# Visualizing the average price per unit across different categories to understand pricing trends\n",
    "plt.figure(figsize=(6, 4))  \n",
    "sns.barplot(x=avg_price.values, y=avg_price.index, hue=avg_price.index, palette='rocket', legend=False)  \n",
    "plt.title('Average Price per Unit by Category', fontsize=12, weight='bold')  \n",
    "plt.xlabel('Average Price per Unit ($)', fontsize=10)  \n",
    "plt.ylabel('Category', fontsize=10)  \n",
    "plt.grid(axis='x', linestyle='--', alpha=0.7)  \n",
    "plt.tight_layout()  \n",
    "plt.savefig('../visuals/average_price_per_unit_by_category.png')\n",
    "plt.show()"
   ]
  },
  {
   "cell_type": "markdown",
   "id": "c280d3d0-8812-41db-996b-049f6cd2dbee",
   "metadata": {},
   "source": [
    "###### This bar chart shows the average price of products in each category. Electronics products are a little more expensive than Accessories. This might explain why Electronics make a bit more money."
   ]
  },
  {
   "cell_type": "markdown",
   "id": "1ce8a94a-add9-4a2a-9672-7653b8b450bc",
   "metadata": {},
   "source": [
    "## Summary and Recommendations\n",
    "\n",
    "This analysis of e-commerce sales data reveals key insights:\n",
    "\n",
    "*Top Products: Laptops generate the most revenue (AUD 162,098) and are the most popular (150 units sold), making them a flagship product.\n",
    "\n",
    "*Category Performance: Electronics (AUD 258,523) and Accessories (AUD 253,860) contribute nearly equally to revenue, with Electronics slightly ahead due to higher average prices (AUD 1070.86) compared to Accessories (AUD 1019.24).\n",
    "\n",
    "*Pricing Trends: Electronics products are priced slightly higher, which boosts their revenue despite similar sales volumes to Accessories.\n",
    "\n",
    "### Recommendations\n",
    "\n",
    "*Promote Laptops: Increase marketing for Laptops, as they drive both revenue and popularity.\n",
    "\n",
    "*Balance Inventory: Maintain stock for both Electronics and Accessories, as both are critical to sales.\n",
    "\n",
    "*Price Optimization: Consider slight price adjustments for Accessories to boost their revenue, given their strong sales volume.\n",
    "\n",
    "These strategies can help the business maximize revenue and customer satisfaction.s)."
   ]
  },
  {
   "cell_type": "markdown",
   "id": "19a96905-09a5-4044-9bb4-2c75990e50bd",
   "metadata": {},
   "source": [
    "### Limitations and Future Work\n",
    "\n",
    "*Small Dataset: The dataset contains only 100 records, limiting the generalizability of insights.\n",
    "\n",
    "*Lack of Temporal Data: Without timestamps, trends over time (e.g., seasonality) cannot be analyzed.\n",
    "\n",
    "*Future Work: Incorporate customer demographics or time-series data to refine recommendations and explore predictive modeling (e.g., forecasting sales)."
   ]
  },
  {
   "cell_type": "code",
   "execution_count": null,
   "id": "7c3e78d0-eae9-4ad0-9176-90407cfa1aa3",
   "metadata": {},
   "outputs": [],
   "source": []
  }
 ],
 "metadata": {
  "kernelspec": {
   "display_name": "Python 3 (ipykernel)",
   "language": "python",
   "name": "python3"
  },
  "language_info": {
   "codemirror_mode": {
    "name": "ipython",
    "version": 3
   },
   "file_extension": ".py",
   "mimetype": "text/x-python",
   "name": "python",
   "nbconvert_exporter": "python",
   "pygments_lexer": "ipython3",
   "version": "3.11.11"
  }
 },
 "nbformat": 4,
 "nbformat_minor": 5
}
